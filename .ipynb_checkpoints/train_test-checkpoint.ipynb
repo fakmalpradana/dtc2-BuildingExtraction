{
 "cells": [
  {
   "cell_type": "markdown",
   "id": "2c0d57a3-a40d-4a7d-a863-57c53198862c",
   "metadata": {},
   "source": [
    "## Import Library yang dibutuhkan"
   ]
  },
  {
   "cell_type": "code",
   "execution_count": null,
   "id": "822564a3-059c-4d32-903b-b04671f45de6",
   "metadata": {},
   "outputs": [],
   "source": [
    "import torch, detectron2\n",
    "import sys, os, distutils.core\n",
    "!nvcc --version\n",
    "TORCH_VERSION = \".\".join(torch.__version__.split(\".\")[:2])\n",
    "CUDA_VERSION = torch.__version__.split(\"+\")[-1]\n",
    "print(\"torch: \", TORCH_VERSION, \"; cuda: \", CUDA_VERSION)\n",
    "print(\"detectron2:\", detectron2.__version__)"
   ]
  },
  {
   "cell_type": "code",
   "execution_count": null,
   "id": "129d33c6-769e-437b-93f8-4d4e90c192dc",
   "metadata": {},
   "outputs": [],
   "source": [
    "# Setup dtc2 logger\n",
    "import detectron2\n",
    "from detectron2.utils.logger import setup_logger\n",
    "setup_logger()\n",
    "\n",
    "# import library umum\n",
    "import numpy as np\n",
    "import os, json, cv2, random\n",
    "import matplotlib.pyplot as plt\n",
    "\n",
    "# import dtc2 utility\n",
    "from detectron2 import model_zoo\n",
    "from detectron2.engine import DefaultPredictor\n",
    "from detectron2.config import get_cfg\n",
    "from detectron2.utils.visualizer import Visualizer, ColorMode\n",
    "from detectron2.data import MetadataCatalog, DatasetCatalog\n",
    "\n",
    "%matplotlib inline"
   ]
  },
  {
   "cell_type": "markdown",
   "id": "f47a2252-bfab-45b7-804d-e00aa5974b65",
   "metadata": {},
   "source": [
    "## Inisialisasi Dataset (format COCO JSON)"
   ]
  },
  {
   "cell_type": "code",
   "execution_count": null,
   "id": "be78f57d-93ab-46f4-a743-02bfa0544dad",
   "metadata": {},
   "outputs": [],
   "source": [
    "from detectron2.data.datasets import register_coco_instances\n",
    "\n",
    "register_coco_instances(\"train1\", {}, \"dataset/Kav1/Kav1_coco.json\", \"dataset/Kav1\")\n",
    "register_coco_instances(\"train2\", {}, \"dataset/Kav2/Kav2_coco.json\", \"dataset/Kav2\")\n",
    "register_coco_instances(\"train3\", {}, \"dataset/Kav3/Kav3_coco.json\", \"dataset/Kav3\")\n",
    "\n",
    "register_coco_instances(\"val\", {}, \"dataset/Kav2/Kav2_coco.json\", \"dataset/Kav2\")"
   ]
  },
  {
   "cell_type": "markdown",
   "id": "40ca7f2e-8f19-4541-876b-0c687b08a85d",
   "metadata": {},
   "source": [
    "Verifikasi dataset yang diregister"
   ]
  },
  {
   "cell_type": "code",
   "execution_count": null,
   "id": "a9916617-7a10-48fa-a77d-7379d6af3941",
   "metadata": {},
   "outputs": [],
   "source": [
    "dataset_names = [\"train1\", \"train2\", \"train3\"]\n",
    "\n",
    "for dataset_name in dataset_names:\n",
    "    dataset_dicts = DatasetCatalog.get(dataset_name)\n",
    "    metadata = MetadataCatalog.get(dataset_name)\n",
    "\n",
    "    # Choose a random index\n",
    "    random_index = random.randint(0, len(dataset_dicts) - 1)\n",
    "    random_sample = dataset_dicts[random_index]\n",
    "\n",
    "    img = cv2.imread(random_sample[\"file_name\"])\n",
    "    img = cv2.cvtColor(img, cv2.COLOR_BGR2RGB)\n",
    "    print(img.shape)\n",
    "    visualizer = Visualizer(img[:, :, ::-1], metadata=metadata, scale=1)\n",
    "    vis = visualizer.draw_dataset_dict(random_sample)\n",
    "\n",
    "    # Display using matplotlib\n",
    "    plt.figure(figsize=(7,7))\n",
    "    plt.imshow(vis.get_image()[:, :, ::-1])\n",
    "    plt.axis('off')\n",
    "    plt.show()"
   ]
  },
  {
   "cell_type": "markdown",
   "id": "f4ebcd5c-4beb-4605-b82e-a4530e9e758b",
   "metadata": {},
   "source": [
    "## Training Model"
   ]
  },
  {
   "cell_type": "code",
   "execution_count": null,
   "id": "2a8c6950-de36-462d-b618-ff13464a95d1",
   "metadata": {},
   "outputs": [],
   "source": [
    "# from detectron2.engine import DefaultTrainer\n",
    "\n",
    "cfg = get_cfg()\n",
    "# cfg.merge_from_file(model_zoo.get_config_file(\"COCO-InstanceSegmentation/mask_rcnn_R_50_FPN_3x.yaml\"))\n",
    "cfg.merge_from_file(model_zoo.get_config_file(\"COCO-InstanceSegmentation/mask_rcnn_R_101_FPN_3x.yaml\"))\n",
    "cfg.DATASETS.TRAIN = (\"train1\", \"train2\", \"train3\")\n",
    "cfg.DATASETS.TEST = ()\n",
    "cfg.DATALOADER.NUM_WORKERS = 2\n",
    "# cfg.MODEL.WEIGHTS = model_zoo.get_checkpoint_url(\"COCO-InstanceSegmentation/mask_rcnn_R_50_FPN_3x.yaml\")  # Let training initialize from model zoo\n",
    "cfg.MODEL.WEIGHTS = model_zoo.get_checkpoint_url(\"COCO-InstanceSegmentation/mask_rcnn_R_101_FPN_3x.yaml\")\n",
    "cfg.SOLVER.IMS_PER_BATCH = 2  # This is the real \"batch size\" commonly known to deep learning people\n",
    "cfg.SOLVER.BASE_LR = 0.01  # pick a good LR\n",
    "cfg.SOLVER.MAX_ITER = 1000    # 300 iterations seems good enough for this toy dataset; you will need to train longer for a practical dataset\n",
    "cfg.SOLVER.STEPS = []        # do not decay learning rate\n",
    "cfg.MODEL.ROI_HEADS.BATCH_SIZE_PER_IMAGE = 512   # The \"RoIHead batch size\". 128 is faster, and good enough for this toy dataset (default: 512)\n",
    "cfg.MODEL.ROI_HEADS.NUM_CLASSES = 1  # only has one class (ballon). (see https://detectron2.readthedocs.io/tutorials/datasets.html#update-the-config-for-new-datasets)\n",
    "# NOTE: this config means the number of classes, but a few popular unofficial tutorials incorrect uses num_classes+1 here.\n",
    "\n",
    "os.makedirs(cfg.OUTPUT_DIR, exist_ok=True)\n",
    "trainer = DefaultTrainer(cfg)\n",
    "trainer.resume_or_load(resume=False)\n",
    "trainer.train()"
   ]
  },
  {
   "cell_type": "markdown",
   "id": "739dc4fb-c495-4848-a61d-d036e2aa12bf",
   "metadata": {},
   "source": [
    "## Cek Statistik training di tensorboard"
   ]
  },
  {
   "cell_type": "code",
   "execution_count": null,
   "id": "81b3d7dd-f4ec-4d53-97e0-fe40e70a261d",
   "metadata": {},
   "outputs": [],
   "source": [
    "%load_ext tensorboard\n",
    "%tensorboard --logdir output"
   ]
  },
  {
   "cell_type": "markdown",
   "id": "e04595dc-893c-49dd-949c-99b662b5dbbe",
   "metadata": {},
   "source": [
    "## Evaluasi Training"
   ]
  },
  {
   "cell_type": "code",
   "execution_count": null,
   "id": "26d202b2-e1cf-4ff6-9c4d-487eeef2c10d",
   "metadata": {},
   "outputs": [],
   "source": [
    "cfg.MODEL.WEIGHTS = os.path.join(cfg.OUTPUT_DIR, \"model_final.pth\")  # path to the model we just trained\n",
    "cfg.MODEL.ROI_HEADS.SCORE_THRESH_TEST = 0.5   # set a custom testing threshold\n",
    "predictor = DefaultPredictor(cfg)"
   ]
  },
  {
   "cell_type": "code",
   "execution_count": null,
   "id": "c3d90501-5889-478c-a34b-6e9c9dc57651",
   "metadata": {},
   "outputs": [],
   "source": [
    "dataset_dicts = DatasetCatalog.get('my_dataset_val')\n",
    "metadata = MetadataCatalog.get(dataset_name)\n",
    "\n",
    "# Choose a random index\n",
    "# random_index = random.randint(0, len(dataset_dicts) - 1)\n",
    "random_sample = dataset_dicts[0]\n",
    "\n",
    "im = cv2.imread(random_sample[\"file_name\"])\n",
    "outputs = predictor(im)\n",
    "\n",
    "v = Visualizer(\n",
    "    im[:, :, ::-1],\n",
    "    metadata=metadata,\n",
    "    scale=0.5,\n",
    "    instance_mode=ColorMode.IMAGE_BW  # remove the colors of unsegmented pixels\n",
    ")\n",
    "\n",
    "out = v.draw_instance_predictions(outputs[\"instances\"].to(\"cpu\"))\n",
    "    \n",
    "# Display using matplotlib\n",
    "plt.figure(figsize=(12,12))\n",
    "plt.imshow(cv2.cvtColor(out.get_image()[:, :, ::-1], cv2.COLOR_BGR2RGB))\n",
    "plt.axis('off')  # Hide axis labels and ticks\n",
    "plt.show()"
   ]
  },
  {
   "cell_type": "markdown",
   "id": "19f9157c-a2f1-4f51-b51b-0392f8a8a3e5",
   "metadata": {},
   "source": [
    "## Testing Model dengan Dataset Baru"
   ]
  },
  {
   "cell_type": "code",
   "execution_count": null,
   "id": "c09788c0-1f26-4746-946f-426643815ced",
   "metadata": {},
   "outputs": [],
   "source": [
    "for i in ['Kav3', 'Kav4']:\n",
    "    im = cv2.imread(f'dataset/{i}/ortho_{i}_15cm.png')\n",
    "    outputs = predictor(im)\n",
    "    \n",
    "    v = Visualizer(\n",
    "        im[:, :, ::-1],\n",
    "        metadata=None,\n",
    "        scale=0.5,\n",
    "        instance_mode=ColorMode.IMAGE_BW  # remove the colors of unsegmented pixels\n",
    "    )\n",
    "    \n",
    "    out = v.draw_instance_predictions(outputs[\"instances\"].to(\"cpu\"))\n",
    "        \n",
    "    # Display using matplotlib\n",
    "    plt.figure(figsize=(6,6))\n",
    "    plt.imshow(cv2.cvtColor(out.get_image(), cv2.COLOR_BGR2RGB))\n",
    "    plt.axis('off')  # Hide axis labels and ticks\n",
    "    plt.show()"
   ]
  },
  {
   "cell_type": "code",
   "execution_count": null,
   "id": "851b90fd-cb5c-4c6c-9307-584bf089cde7",
   "metadata": {},
   "outputs": [],
   "source": [
    "from detectron2.evaluation import COCOEvaluator, inference_on_dataset\n",
    "from detectron2.data import build_detection_test_loader\n",
    "evaluator = COCOEvaluator(\"val\", output_dir=\"./output\")\n",
    "val_loader = build_detection_test_loader(cfg, \"val\")\n",
    "print(inference_on_dataset(predictor.model, val_loader, evaluator))"
   ]
  }
 ],
 "metadata": {
  "kernelspec": {
   "display_name": "dtc2",
   "language": "python",
   "name": "dtc2"
  },
  "language_info": {
   "codemirror_mode": {
    "name": "ipython",
    "version": 3
   },
   "file_extension": ".py",
   "mimetype": "text/x-python",
   "name": "python",
   "nbconvert_exporter": "python",
   "pygments_lexer": "ipython3",
   "version": "3.10.13"
  }
 },
 "nbformat": 4,
 "nbformat_minor": 5
}
